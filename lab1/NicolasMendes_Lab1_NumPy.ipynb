{
  "nbformat": 4,
  "nbformat_minor": 0,
  "metadata": {
    "colab": {
      "provenance": []
    },
    "kernelspec": {
      "name": "python3",
      "display_name": "Python 3"
    },
    "language_info": {
      "name": "python"
    }
  },
  "cells": [
    {
      "cell_type": "markdown",
      "source": [
        "# Lab 1 - BCC406/PCC177\n",
        "\n",
        "## REDES NEURAIS E APRENDIZAGEM EM PROFUNDIDADE\n",
        "\n",
        "## Pacote *NumPy*\n",
        "\n",
        "### Prof. Eduardo e Prof. Pedro\n",
        "\n",
        "Objetivos:\n",
        "\n",
        "- Uso de *NumPy*.\n",
        "\n",
        "Data da entrega : 10/12/2024\n",
        "\n",
        "- Complete o código (marcado com 'ToDo') e quando requisitado, escreva textos diretamente nos notebooks. Onde tiver *None*, substitua pelo seu código.\n",
        "- Execute todo notebook e salve tudo em um PDF **nomeado** como \"NomeSobrenome-LabX.pdf\"\n",
        "- Envie o PDF e o o *.ipynb* via [Formulário Google](https://forms.gle/1oi7xfJHesmso8mS6).\n",
        "\n",
        "Sugestão de leitura:\n",
        "\n",
        "- Ler [Capítulo 2 do livro texto](https://pt.d2l.ai/chapter_preliminaries/index.html). Dê ênfase para as seções 2.3 e 2.4. **Sugerimos fortemente** abrir com o Colab e executar estas duas seções passo a passo.\n"
      ],
      "metadata": {
        "id": "X9fHBqFr2AoZ"
      }
    },
    {
      "cell_type": "markdown",
      "source": [
        "## ***NumPy***"
      ],
      "metadata": {
        "id": "eDZEOwGdS_fY"
      }
    },
    {
      "cell_type": "markdown",
      "metadata": {
        "id": "rgbVriCaYte2"
      },
      "source": [
        "*NumPy* é uma das bibliotecas mais populares para computação científica. Ela foi desenvolvida para dar suporte a operações com *arrays* de *N* dimensões e implementa métodos úteis para operações de álgebra linear, geração de números aleatórios, etc."
      ]
    },
    {
      "cell_type": "markdown",
      "source": [
        "### Criando arrays (5pt)"
      ],
      "metadata": {
        "id": "ExS_LMr9TC3P"
      }
    },
    {
      "cell_type": "code",
      "metadata": {
        "id": "_BahTvnI2YfB"
      },
      "source": [
        "# Primeiramente, vamos importar a biblioteca\n",
        "import numpy as np"
      ],
      "execution_count": 2,
      "outputs": []
    },
    {
      "cell_type": "code",
      "metadata": {
        "id": "GZ7qRwmy11Vv",
        "outputId": "fd792a98-3ef2-433c-af71-53cb9a300cfe",
        "colab": {
          "base_uri": "https://localhost:8080/"
        }
      },
      "source": [
        "# Usaremos a função zeros para criar um array de uma dimensão de tamanho 5\n",
        "np.zeros(5)"
      ],
      "execution_count": null,
      "outputs": [
        {
          "output_type": "execute_result",
          "data": {
            "text/plain": [
              "array([0., 0., 0., 0., 0.])"
            ]
          },
          "metadata": {},
          "execution_count": 38
        }
      ]
    },
    {
      "cell_type": "code",
      "metadata": {
        "id": "AZFe47z7c1c_",
        "outputId": "4f20a31b-435f-4d76-932e-fbcd0e12750b",
        "colab": {
          "base_uri": "https://localhost:8080/"
        }
      },
      "source": [
        "# Da mesma forma, para criar um array de duas dimensões:\n",
        "np.zeros((3,4))"
      ],
      "execution_count": null,
      "outputs": [
        {
          "output_type": "execute_result",
          "data": {
            "text/plain": [
              "array([[0., 0., 0., 0.],\n",
              "       [0., 0., 0., 0.],\n",
              "       [0., 0., 0., 0.]])"
            ]
          },
          "metadata": {},
          "execution_count": 39
        }
      ]
    },
    {
      "cell_type": "code",
      "source": [
        "# ToDo: Crie um array de três dimensões com o shape (3, 3, 3)\n",
        "x = np.zeros((3,3,3))\n",
        "x"
      ],
      "metadata": {
        "id": "GCTkdOYLdSiz",
        "outputId": "e0ac6a0b-26f1-4158-ccb0-d71d0765f32e",
        "colab": {
          "base_uri": "https://localhost:8080/"
        }
      },
      "execution_count": null,
      "outputs": [
        {
          "output_type": "execute_result",
          "data": {
            "text/plain": [
              "array([[[0., 0., 0.],\n",
              "        [0., 0., 0.],\n",
              "        [0., 0., 0.]],\n",
              "\n",
              "       [[0., 0., 0.],\n",
              "        [0., 0., 0.],\n",
              "        [0., 0., 0.]],\n",
              "\n",
              "       [[0., 0., 0.],\n",
              "        [0., 0., 0.],\n",
              "        [0., 0., 0.]]])"
            ]
          },
          "metadata": {},
          "execution_count": 40
        }
      ]
    },
    {
      "cell_type": "markdown",
      "source": [
        "### Vocabulário comum (25pt)"
      ],
      "metadata": {
        "id": "pyg4oHLMTrV2"
      }
    },
    {
      "cell_type": "markdown",
      "metadata": {
        "id": "M8KT-jbZc_6k"
      },
      "source": [
        "* Em *NumPy*, cada dimensão é chamada eixo (***axis***).\n",
        "* Um array é uma lista de axis e uma lista de tamanho dos axis é o que chamamos de **shape** do array.\n",
        "    * Por exemplo, o shape da matrix acima é `(3, 4)`.\n",
        "    \n",
        "* O tamanho (***size***) de uma array é o número total de elementos, por exemplo, no array 2D acima = `3 * 4 = 12`."
      ]
    },
    {
      "cell_type": "code",
      "metadata": {
        "id": "1YWyPHbuc_SN",
        "outputId": "bfc45031-20be-4a42-afc4-b1461f4b2915",
        "colab": {
          "base_uri": "https://localhost:8080/"
        }
      },
      "source": [
        "# Criando e mostrando o array\n",
        "a = np.zeros((3,4))\n",
        "a"
      ],
      "execution_count": null,
      "outputs": [
        {
          "output_type": "execute_result",
          "data": {
            "text/plain": [
              "array([[0., 0., 0., 0.],\n",
              "       [0., 0., 0., 0.],\n",
              "       [0., 0., 0., 0.]])"
            ]
          },
          "metadata": {},
          "execution_count": 41
        }
      ]
    },
    {
      "cell_type": "code",
      "metadata": {
        "id": "UUvZr2bBcwC7",
        "outputId": "5c862071-febe-4d55-bd85-a110dcf5abae",
        "colab": {
          "base_uri": "https://localhost:8080/"
        }
      },
      "source": [
        "# Verificando o shape do array\n",
        "a.shape"
      ],
      "execution_count": null,
      "outputs": [
        {
          "output_type": "execute_result",
          "data": {
            "text/plain": [
              "(3, 4)"
            ]
          },
          "metadata": {},
          "execution_count": 42
        }
      ]
    },
    {
      "cell_type": "code",
      "metadata": {
        "id": "5Vrzg2yMeaiS",
        "outputId": "cedd5d78-97b3-48e0-df74-310d4d8e74ed",
        "colab": {
          "base_uri": "https://localhost:8080/"
        }
      },
      "source": [
        "# Verificando a quantidade de dimensões de um array\n",
        "a.ndim"
      ],
      "execution_count": null,
      "outputs": [
        {
          "output_type": "execute_result",
          "data": {
            "text/plain": [
              "2"
            ]
          },
          "metadata": {},
          "execution_count": 43
        }
      ]
    },
    {
      "cell_type": "code",
      "metadata": {
        "id": "0dIVxyT6eeFp",
        "outputId": "8f6c2c8a-c978-4f26-ff7b-4178751fcbee",
        "colab": {
          "base_uri": "https://localhost:8080/"
        }
      },
      "source": [
        "# Verificando a quantidade de elemntos no array\n",
        "a.size"
      ],
      "execution_count": null,
      "outputs": [
        {
          "output_type": "execute_result",
          "data": {
            "text/plain": [
              "12"
            ]
          },
          "metadata": {},
          "execution_count": 44
        }
      ]
    },
    {
      "cell_type": "code",
      "metadata": {
        "id": "6r6XyebuexGL",
        "outputId": "c45b568c-c86d-4354-ccbd-fcf81930c829",
        "colab": {
          "base_uri": "https://localhost:8080/"
        }
      },
      "source": [
        "# ToDo : Criar um array de 3 dimensões, de shape (2,3,4) e mostrar o shape, quantidade de dimensões e o número de elemetos\n",
        "x = np.zeros((2,3,4))\n",
        "print(f\"Shape = {x.shape}\\n\")\n",
        "print(f\"Qtd de dimensões = {x.ndim}\\n\")\n",
        "print(f\"Número de elementos = {x.size}\\n\")"
      ],
      "execution_count": null,
      "outputs": [
        {
          "output_type": "stream",
          "name": "stdout",
          "text": [
            "Shape = (2, 3, 4)\n",
            "\n",
            "Qtd de dimensões = 3\n",
            "\n",
            "Número de elementos = 24\n",
            "\n"
          ]
        }
      ]
    },
    {
      "cell_type": "code",
      "source": [
        "# ToDo : Criar um array de 3 dimensões mas trocando a função zeros por ones e mostrar o shape, quantidade de dimensões e o número de elemetos\n",
        "x = np.ones((3,3,3))\n",
        "print(f\"Shape = {x.shape}\\n\")\n",
        "print(f\"Qtd de dimensões = {x.ndim}\\n\")\n",
        "print(f\"Número de elementos = {x.size}\\n\")"
      ],
      "metadata": {
        "id": "1GW4U4OeeEIL",
        "outputId": "2e1ef1de-5421-4e4c-cc96-870e6d4ab4b8",
        "colab": {
          "base_uri": "https://localhost:8080/"
        }
      },
      "execution_count": null,
      "outputs": [
        {
          "output_type": "stream",
          "name": "stdout",
          "text": [
            "Shape = (3, 3, 3)\n",
            "\n",
            "Qtd de dimensões = 3\n",
            "\n",
            "Número de elementos = 27\n",
            "\n"
          ]
        }
      ]
    },
    {
      "cell_type": "code",
      "source": [
        "# ToDo : Criar um array de 3 dimensões mas trocando a função zeros por full e mostrar o shape, quantidade de dimensões e o número de elemetos\n",
        "x = np.full((4,4,4), 4)\n",
        "print(f\"Shape = {x.shape}\\n\")\n",
        "print(f\"Qtd de dimensões = {x.ndim}\\n\")\n",
        "print(f\"Número de elementos = {x.size}\\n\")"
      ],
      "metadata": {
        "id": "6-SmdqTMeD-3",
        "outputId": "b5464446-0cd2-4fd6-f767-3c6ed1415960",
        "colab": {
          "base_uri": "https://localhost:8080/"
        }
      },
      "execution_count": null,
      "outputs": [
        {
          "output_type": "stream",
          "name": "stdout",
          "text": [
            "Shape = (4, 4, 4)\n",
            "\n",
            "Qtd de dimensões = 3\n",
            "\n",
            "Número de elementos = 64\n",
            "\n"
          ]
        },
        {
          "output_type": "execute_result",
          "data": {
            "text/plain": [
              "array([[[4, 4, 4, 4],\n",
              "        [4, 4, 4, 4],\n",
              "        [4, 4, 4, 4],\n",
              "        [4, 4, 4, 4]],\n",
              "\n",
              "       [[4, 4, 4, 4],\n",
              "        [4, 4, 4, 4],\n",
              "        [4, 4, 4, 4],\n",
              "        [4, 4, 4, 4]],\n",
              "\n",
              "       [[4, 4, 4, 4],\n",
              "        [4, 4, 4, 4],\n",
              "        [4, 4, 4, 4],\n",
              "        [4, 4, 4, 4]],\n",
              "\n",
              "       [[4, 4, 4, 4],\n",
              "        [4, 4, 4, 4],\n",
              "        [4, 4, 4, 4],\n",
              "        [4, 4, 4, 4]]])"
            ]
          },
          "metadata": {},
          "execution_count": 21
        }
      ]
    },
    {
      "cell_type": "code",
      "metadata": {
        "id": "ZDy7vZuWfIto",
        "outputId": "5d67f0ed-aef5-46ba-b504-003c606daa27",
        "colab": {
          "base_uri": "https://localhost:8080/"
        }
      },
      "source": [
        "# ToDo : Criar um array de 3 dimensões mas trocando a função zeros por empty e mostrar o shape, quantidade de dimensões e o número de elemetos\n",
        "x = np.empty((4,4,4))\n",
        "print(f\"Shape = {x.shape}\\n\")\n",
        "print(f\"Qtd de dimensões = {x.ndim}\\n\")\n",
        "print(f\"Número de elementos = {x.size}\\n\")\n",
        "x"
      ],
      "execution_count": null,
      "outputs": [
        {
          "output_type": "stream",
          "name": "stdout",
          "text": [
            "Shape = (4, 4, 4)\n",
            "\n",
            "Qtd de dimensões = 3\n",
            "\n",
            "Número de elementos = 64\n",
            "\n"
          ]
        },
        {
          "output_type": "execute_result",
          "data": {
            "text/plain": [
              "array([[[2.e-323, 2.e-323, 2.e-323, 2.e-323],\n",
              "        [2.e-323, 2.e-323, 2.e-323, 2.e-323],\n",
              "        [2.e-323, 2.e-323, 2.e-323, 2.e-323],\n",
              "        [2.e-323, 2.e-323, 2.e-323, 2.e-323]],\n",
              "\n",
              "       [[2.e-323, 2.e-323, 2.e-323, 2.e-323],\n",
              "        [2.e-323, 2.e-323, 2.e-323, 2.e-323],\n",
              "        [2.e-323, 2.e-323, 2.e-323, 2.e-323],\n",
              "        [2.e-323, 2.e-323, 2.e-323, 2.e-323]],\n",
              "\n",
              "       [[2.e-323, 2.e-323, 2.e-323, 2.e-323],\n",
              "        [2.e-323, 2.e-323, 2.e-323, 2.e-323],\n",
              "        [2.e-323, 2.e-323, 2.e-323, 2.e-323],\n",
              "        [2.e-323, 2.e-323, 2.e-323, 2.e-323]],\n",
              "\n",
              "       [[2.e-323, 2.e-323, 2.e-323, 2.e-323],\n",
              "        [2.e-323, 2.e-323, 2.e-323, 2.e-323],\n",
              "        [2.e-323, 2.e-323, 2.e-323, 2.e-323],\n",
              "        [2.e-323, 2.e-323, 2.e-323, 2.e-323]]])"
            ]
          },
          "metadata": {},
          "execution_count": 30
        }
      ]
    },
    {
      "cell_type": "markdown",
      "source": [
        "> **ToDo**: O que você pode dizer sobre cada uma das quatro funções que você usou?\n",
        "> ```\n",
        "  A função np.zeros() recebe como parâmetro o shape desejado e retorna um array, com o shape informado, com todas as posições com o valor 0.\n",
        "  A função np.ones() recebe como parâmetro o shape desejado e retorna um array, com o shape informado, com todas as posições com o valor 1.\n",
        "  A função np.full() recebe como parâmetros o shape desejado e o valor em que se deseja iniciar todas as posições, e retorna um array, com o shape desejado e todas as posições com o valor informado.\n",
        "  A função np.empty() recebe como parâmetro o shape desejado e retorna um array, com o shape informado, e com todas as posições não-inicializadas, ou seja, com lixo de memória.\n",
        "```"
      ],
      "metadata": {
        "id": "YKAY7gdxeVzs"
      }
    },
    {
      "cell_type": "markdown",
      "source": [
        "### O comando ***np.arange*** (5pt)"
      ],
      "metadata": {
        "id": "nkjmI9MeTyjL"
      }
    },
    {
      "cell_type": "markdown",
      "metadata": {
        "id": "_TzkxvDDfgWc"
      },
      "source": [
        "Você pode criar um array usando a função arange, similar a função range do Python."
      ]
    },
    {
      "cell_type": "code",
      "metadata": {
        "id": "vSxyvBeEftcC",
        "outputId": "a80c3a98-bef2-4bbf-df18-20bb3258a934",
        "colab": {
          "base_uri": "https://localhost:8080/"
        }
      },
      "source": [
        "# Criando um array\n",
        "np.arange(1, 5)"
      ],
      "execution_count": null,
      "outputs": [
        {
          "output_type": "execute_result",
          "data": {
            "text/plain": [
              "array([1, 2, 3, 4])"
            ]
          },
          "metadata": {},
          "execution_count": 47
        }
      ]
    },
    {
      "cell_type": "code",
      "metadata": {
        "id": "QQYKeQ4HfvzP",
        "outputId": "6e8c9369-38a3-4695-8586-57acd9e57741",
        "colab": {
          "base_uri": "https://localhost:8080/"
        }
      },
      "source": [
        "# Para criar com ponto flutuante\n",
        "np.arange(1.0, 5.0)"
      ],
      "execution_count": null,
      "outputs": [
        {
          "output_type": "execute_result",
          "data": {
            "text/plain": [
              "array([1., 2., 3., 4.])"
            ]
          },
          "metadata": {},
          "execution_count": 48
        }
      ]
    },
    {
      "cell_type": "code",
      "metadata": {
        "id": "6U8y37khjYOM",
        "outputId": "5f35caba-5ec6-4e08-9fa6-b1ee3d7eb272",
        "colab": {
          "base_uri": "https://localhost:8080/"
        }
      },
      "source": [
        "# ToDo : crie um array com arange, variando de 1 a 5, com um passo de 0.5\n",
        "x = np.arange(1, 5.5, 0.5)\n",
        "x"
      ],
      "execution_count": null,
      "outputs": [
        {
          "output_type": "execute_result",
          "data": {
            "text/plain": [
              "array([1. , 1.5, 2. , 2.5, 3. , 3.5, 4. , 4.5, 5. ])"
            ]
          },
          "metadata": {},
          "execution_count": 49
        }
      ]
    },
    {
      "cell_type": "markdown",
      "source": [
        "### Os comandos ***np.rand*** e ***np.randn*** (5pt)"
      ],
      "metadata": {
        "id": "QRAQgy0PUDc4"
      }
    },
    {
      "cell_type": "markdown",
      "metadata": {
        "id": "a3FACJL6jxIc"
      },
      "source": [
        "O *NumPy* tem várias funções para criação de números aleatórios. Estas funções são muito úteis para inicialização dos pesos das redes neurais. Por exemplo, abaixo criamos uma matrix `(3, 4)` inicializada com números em ponto flutuante (*floats*) e distribuição uniforme:"
      ]
    },
    {
      "cell_type": "code",
      "metadata": {
        "id": "xgCOeCnLkWnT",
        "outputId": "b860f29e-ba9b-45e0-f481-014b6759538f",
        "colab": {
          "base_uri": "https://localhost:8080/"
        }
      },
      "source": [
        "np.random.rand(3,4)"
      ],
      "execution_count": null,
      "outputs": [
        {
          "output_type": "execute_result",
          "data": {
            "text/plain": [
              "array([[2.46843515e-01, 7.94475662e-01, 6.38473436e-01, 4.78734788e-01],\n",
              "       [9.48465164e-01, 8.42491926e-01, 2.89465588e-01, 7.62775910e-01],\n",
              "       [3.36609671e-01, 9.04284383e-01, 3.69774104e-01, 4.15132077e-04]])"
            ]
          },
          "metadata": {},
          "execution_count": 37
        }
      ]
    },
    {
      "cell_type": "markdown",
      "metadata": {
        "id": "wJ5O6QOvNYOv"
      },
      "source": [
        "Abaixo um matriz inicializada com distribuição gaussiana ([normal distribution](https://en.wikipedia.org/wiki/Normal_distribution)) com média 0 e variância 1"
      ]
    },
    {
      "cell_type": "code",
      "metadata": {
        "id": "YzbgYn_4kbTp",
        "outputId": "2656d534-8a79-4f24-a6cc-2f7270204aaf",
        "colab": {
          "base_uri": "https://localhost:8080/"
        }
      },
      "source": [
        "np.random.randn(3,4)"
      ],
      "execution_count": null,
      "outputs": [
        {
          "output_type": "execute_result",
          "data": {
            "text/plain": [
              "array([[ 2.38260871, -0.01632657,  1.29354616,  0.68924774],\n",
              "       [ 0.13309159, -0.09422064, -0.27884781,  1.07440676],\n",
              "       [-1.33768807, -1.15160529,  2.04455882,  0.64608241]])"
            ]
          },
          "metadata": {},
          "execution_count": 38
        }
      ]
    },
    {
      "cell_type": "code",
      "source": [
        "# ToDo : crie um array aleatório com o shape (1, 2, 3, 4)\n",
        "x = np.random.rand(1,2,3,4)\n",
        "x"
      ],
      "metadata": {
        "id": "ABvDRpYFfaSr",
        "outputId": "c35dd690-2c6a-41d6-84a8-1e92ff6adcea",
        "colab": {
          "base_uri": "https://localhost:8080/"
        }
      },
      "execution_count": null,
      "outputs": [
        {
          "output_type": "execute_result",
          "data": {
            "text/plain": [
              "array([[[[0.99647359, 0.9638146 , 0.18090359, 0.29825922],\n",
              "         [0.87088971, 0.57648185, 0.9896967 , 0.8498117 ],\n",
              "         [0.31449193, 0.94317867, 0.49077926, 0.42229894]],\n",
              "\n",
              "        [[0.38185164, 0.32098448, 0.44432428, 0.79848438],\n",
              "         [0.32210363, 0.37269148, 0.89829264, 0.62315878],\n",
              "         [0.99902568, 0.57644136, 0.19501458, 0.82061651]]]])"
            ]
          },
          "metadata": {},
          "execution_count": 39
        }
      ]
    },
    {
      "cell_type": "markdown",
      "source": [
        "### A biblioteca *MatplotLib* (5pt)"
      ],
      "metadata": {
        "id": "sby7_674UWCW"
      }
    },
    {
      "cell_type": "markdown",
      "metadata": {
        "id": "NHZ0hdo5mpir"
      },
      "source": [
        "Vamos usar a biblioteca matplotlib (para mais detalhes veja o [tutorial de *matplotlib*](https://drive.google.com/file/d/1f3Y_gm-URBVov5wIOs-JrdNw0gK86EXL/view?usp=sharing)) para plotar dois arrays de tamanho 10.000, um inicializado com distribuição normal e o outro com uniforme"
      ]
    },
    {
      "cell_type": "code",
      "metadata": {
        "id": "Pk6XqokcnBLs"
      },
      "source": [
        "%matplotlib inline\n",
        "import matplotlib.pyplot as plt"
      ],
      "execution_count": null,
      "outputs": []
    },
    {
      "cell_type": "markdown",
      "source": [
        "Primeiro os dados que serão plotados precisam ser criados"
      ],
      "metadata": {
        "id": "ZvBz0bCBjNr_"
      }
    },
    {
      "cell_type": "code",
      "metadata": {
        "id": "yAjUzzS5nFNY"
      },
      "source": [
        "array_a = np.random.rand(10000,)# ToDo : criar um array de shape (10.000,)\n",
        "array_b = np.random.randn(10000,)# ToDo : criar um array de shape (10.000,)"
      ],
      "execution_count": null,
      "outputs": []
    },
    {
      "cell_type": "markdown",
      "source": [
        "Depois eles podem ser plotados"
      ],
      "metadata": {
        "id": "Rz2WWH-1jRTb"
      }
    },
    {
      "cell_type": "code",
      "metadata": {
        "id": "QaVSaHDanFX7",
        "colab": {
          "base_uri": "https://localhost:8080/",
          "height": 474
        },
        "outputId": "5429a871-6554-4386-b9a6-bb98862be75c"
      },
      "source": [
        "plt.hist(array_a, density=True, bins=100, histtype=\"step\", color=\"blue\", label=\"rand\")\n",
        "plt.hist(array_b, density=True, bins=100, histtype=\"step\", color=\"red\", label=\"randn\")\n",
        "plt.axis([-2.5, 2.5, 0, 1.1])\n",
        "plt.legend(loc = \"upper left\")\n",
        "plt.title(\"Distribuições aleatṍrias\")\n",
        "plt.xlabel(\"Valor\")\n",
        "plt.ylabel(\"Densidade\")\n",
        "plt.show()"
      ],
      "execution_count": null,
      "outputs": [
        {
          "output_type": "display_data",
          "data": {
            "text/plain": [
              "<Figure size 640x480 with 1 Axes>"
            ],
            "image/png": "[encoded data removed]"
          },
          "metadata": {}
        }
      ]
    },
    {
      "cell_type": "markdown",
      "source": [
        "### Tipo de dados (***dtype***) (5pt)"
      ],
      "metadata": {
        "id": "xNJLRAtyUt5v"
      }
    },
    {
      "cell_type": "markdown",
      "metadata": {
        "id": "hqg3Mkz3nt6i"
      },
      "source": [
        "Você pode ver qual o tipo de dado pelo atributo `dtype`. Verifique abaixo:"
      ]
    },
    {
      "cell_type": "code",
      "metadata": {
        "id": "_8RjI5j-n38c",
        "colab": {
          "base_uri": "https://localhost:8080/"
        },
        "outputId": "8f353238-c89e-4d5d-9483-220143986fd3"
      },
      "source": [
        "c = np.arange(1, 5)\n",
        "print(c.dtype, c)"
      ],
      "execution_count": null,
      "outputs": [
        {
          "output_type": "stream",
          "name": "stdout",
          "text": [
            "int64 [1 2 3 4]\n"
          ]
        }
      ]
    },
    {
      "cell_type": "code",
      "metadata": {
        "id": "FE2DlBhkn9CE",
        "colab": {
          "base_uri": "https://localhost:8080/"
        },
        "outputId": "9ad9cf80-7192-482e-b018-8a39ced27927"
      },
      "source": [
        "# ToDo: Crie um um array aleatório de shape (2, 3, 4) e verifique o seu tipo\n",
        "x = np.random.rand(2,3,4)\n",
        "print(x.dtype, x)"
      ],
      "execution_count": null,
      "outputs": [
        {
          "output_type": "stream",
          "name": "stdout",
          "text": [
            "float64 [[[0.44689675 0.26727742 0.84231738 0.77175053]\n",
            "  [0.77454903 0.58649886 0.74877748 0.99664755]\n",
            "  [0.00602587 0.85935444 0.64803404 0.54161591]]\n",
            "\n",
            " [[0.84985727 0.9160355  0.06144082 0.64668953]\n",
            "  [0.50428518 0.04566941 0.08643905 0.24791305]\n",
            "  [0.91071396 0.8374396  0.62906173 0.87078221]]]\n"
          ]
        }
      ]
    },
    {
      "cell_type": "markdown",
      "metadata": {
        "id": "ylFtnobMoDof"
      },
      "source": [
        "Tipos disponĩveis: `int8`, `int16`, `int32`, `int64`, `uint8`|`16`|`32`|`64`, `float16`|`32`|`64` e `complex64`|`128`. Veja a [documentação](http://docs.scipy.org/doc/numpy-1.10.1/user/basics.types.html) para a lista completa.\n"
      ]
    },
    {
      "cell_type": "markdown",
      "source": [
        "### Atributo ***itemsize*** (5pt)"
      ],
      "metadata": {
        "id": "sWI7oAE7VFrL"
      }
    },
    {
      "cell_type": "markdown",
      "source": [
        "O atributo `itemsize` retorna o tamanho em bytes"
      ],
      "metadata": {
        "id": "aJnMiG2oVHhc"
      }
    },
    {
      "cell_type": "code",
      "metadata": {
        "id": "94eTv9JWoCDi",
        "colab": {
          "base_uri": "https://localhost:8080/"
        },
        "outputId": "ff6ee9d3-ab63-4d66-c300-d2639d695018"
      },
      "source": [
        "e = np.arange(1, 5, dtype=np.complex64)\n",
        "e.itemsize"
      ],
      "execution_count": null,
      "outputs": [
        {
          "output_type": "execute_result",
          "data": {
            "text/plain": [
              "8"
            ]
          },
          "metadata": {},
          "execution_count": 26
        }
      ]
    },
    {
      "cell_type": "code",
      "metadata": {
        "id": "GqBdud2Kocn4",
        "colab": {
          "base_uri": "https://localhost:8080/"
        },
        "outputId": "f02b9aee-6c5a-4f9d-bc60-502b42382305"
      },
      "source": [
        "# Na memória, um array é armazenado de forma contígua\n",
        "f = np.array([[1,2],[1000, 2000]], dtype=np.int32)\n",
        "f.data"
      ],
      "execution_count": null,
      "outputs": [
        {
          "output_type": "execute_result",
          "data": {
            "text/plain": [
              "<memory at 0x7e0b26365490>"
            ]
          },
          "metadata": {},
          "execution_count": 50
        }
      ]
    },
    {
      "cell_type": "code",
      "source": [
        "# ToDo: Crie arrays de shape (2, 2) dos tipos int8, int64, float16, float64, complex64 e complex128\n",
        "x = np.array([[1,2], [3,4]], dtype=np.int8)\n",
        "print(x.dtype, x.itemsize)\n",
        "x = np.array([[1,2], [3,4]], dtype=np.int64)\n",
        "print(x.dtype, x.itemsize)\n",
        "x = np.array([[1,2], [3,4]], dtype=np.float16)\n",
        "print(x.dtype, x.itemsize)\n",
        "x = np.array([[1,2], [3,4]], dtype=np.float64)\n",
        "print(x.dtype, x.itemsize)\n",
        "x = np.array([[1,2], [3,4]], dtype=np.complex64)\n",
        "print(x.dtype, x.itemsize)\n",
        "x = np.array([[1,2], [3,4]], dtype=np.complex128)\n",
        "print(x.dtype, x.itemsize)"
      ],
      "metadata": {
        "id": "sLnVgJQJjzxU",
        "colab": {
          "base_uri": "https://localhost:8080/"
        },
        "outputId": "5e33013c-e672-4b4c-a061-1c25894ad605"
      },
      "execution_count": null,
      "outputs": [
        {
          "output_type": "stream",
          "name": "stdout",
          "text": [
            "int8 1\n",
            "int64 8\n",
            "float16 2\n",
            "float64 8\n",
            "complex64 8\n",
            "complex128 16\n"
          ]
        }
      ]
    },
    {
      "cell_type": "markdown",
      "source": [
        "> **ToDo**: O que você pode dizer sobre esses arrays criados?\n",
        "> ```\n",
        " Os itens de cada arrays são semelhantes, tendo em vista que o mesmo vetor original foi informado, entretanto, de acordo com o tipo de dados informado no dtype, os arrays ocupam espaços em memórias diferentes. Por exemplo, o array com o dtype int8 ocupa mens espaço que o float64.\n",
        "```"
      ],
      "metadata": {
        "id": "4p7ZKX-VkGeA"
      }
    },
    {
      "cell_type": "markdown",
      "source": [
        "### ***Reshaping*** (5pt)"
      ],
      "metadata": {
        "id": "OUlszIjTVWeJ"
      }
    },
    {
      "cell_type": "markdown",
      "metadata": {
        "id": "HlJ5vj9Gol53"
      },
      "source": [
        "Alterar o shape de uma array é muto fácil com NumPy e muito útil para adequação das matrizes para métodos de machine learning. Contudo, o tamanho (size) não pode ser alterado."
      ]
    },
    {
      "cell_type": "code",
      "metadata": {
        "id": "uXu0PAwgo811",
        "colab": {
          "base_uri": "https://localhost:8080/"
        },
        "outputId": "e2e5892d-3697-424c-8d6c-3012924fe340"
      },
      "source": [
        "# O núemro de dimensões também é chamado de rank\n",
        "g = np.arange(24)\n",
        "print(g)\n",
        "print(\"Rank:\", g.ndim)"
      ],
      "execution_count": null,
      "outputs": [
        {
          "output_type": "stream",
          "name": "stdout",
          "text": [
            "[ 0  1  2  3  4  5  6  7  8  9 10 11 12 13 14 15 16 17 18 19 20 21 22 23]\n",
            "Rank: 1\n"
          ]
        }
      ]
    },
    {
      "cell_type": "code",
      "metadata": {
        "id": "xRWmC6FUpDHX",
        "colab": {
          "base_uri": "https://localhost:8080/"
        },
        "outputId": "e447a942-0fc2-4fbd-bce4-c66f6097e355"
      },
      "source": [
        "g.shape = (6, 4)\n",
        "print(g)\n",
        "print(\"Rank:\", g.ndim)"
      ],
      "execution_count": null,
      "outputs": [
        {
          "output_type": "stream",
          "name": "stdout",
          "text": [
            "[[ 0  1  2  3]\n",
            " [ 4  5  6  7]\n",
            " [ 8  9 10 11]\n",
            " [12 13 14 15]\n",
            " [16 17 18 19]\n",
            " [20 21 22 23]]\n",
            "Rank: 2\n"
          ]
        }
      ]
    },
    {
      "cell_type": "code",
      "metadata": {
        "id": "mH34bpWSpG9O",
        "colab": {
          "base_uri": "https://localhost:8080/"
        },
        "outputId": "b6856370-fd07-4503-9c8b-3e44ce34a7c4"
      },
      "source": [
        "g.shape = (2, 3, 4)\n",
        "print(g)\n",
        "print(\"Rank:\", g.ndim)"
      ],
      "execution_count": null,
      "outputs": [
        {
          "output_type": "stream",
          "name": "stdout",
          "text": [
            "[[[ 0  1  2  3]\n",
            "  [ 4  5  6  7]\n",
            "  [ 8  9 10 11]]\n",
            "\n",
            " [[12 13 14 15]\n",
            "  [16 17 18 19]\n",
            "  [20 21 22 23]]]\n",
            "Rank: 3\n"
          ]
        }
      ]
    },
    {
      "cell_type": "markdown",
      "metadata": {
        "id": "R9nZuFMVpMg7"
      },
      "source": [
        "Mudando o formato do dado (***reshape***)"
      ]
    },
    {
      "cell_type": "code",
      "metadata": {
        "id": "7z_UhY_FpLYl",
        "colab": {
          "base_uri": "https://localhost:8080/"
        },
        "outputId": "69f73fef-528c-419f-c59c-25c89229399c"
      },
      "source": [
        "g2 = g.reshape(4,6)\n",
        "print(g2)\n",
        "print(\"Rank:\", g2.ndim)"
      ],
      "execution_count": null,
      "outputs": [
        {
          "output_type": "stream",
          "name": "stdout",
          "text": [
            "[[ 0  1  2  3  4  5]\n",
            " [ 6  7  8  9 10 11]\n",
            " [12 13 14 15 16 17]\n",
            " [18 19 20 21 22 23]]\n",
            "Rank: 2\n"
          ]
        }
      ]
    },
    {
      "cell_type": "code",
      "metadata": {
        "id": "_n_4kK7JpRW7",
        "colab": {
          "base_uri": "https://localhost:8080/"
        },
        "outputId": "d87cd59c-e09c-4ce5-fca0-26310f465c8d"
      },
      "source": [
        "# Pode-se alterar diretamente um item da matriz, pelo índice\n",
        "g2[1, 2] = 999\n",
        "g2"
      ],
      "execution_count": null,
      "outputs": [
        {
          "output_type": "execute_result",
          "data": {
            "text/plain": [
              "array([[  0,   1,   2,   3,   4,   5],\n",
              "       [  6,   7, 999,   9,  10,  11],\n",
              "       [ 12,  13,  14,  15,  16,  17],\n",
              "       [ 18,  19,  20,  21,  22,  23]])"
            ]
          },
          "metadata": {},
          "execution_count": 35
        }
      ]
    },
    {
      "cell_type": "markdown",
      "source": [
        "Repare que o objeto `'g'` foi modificado também!"
      ],
      "metadata": {
        "id": "ooR4UMX3Cczq"
      }
    },
    {
      "cell_type": "code",
      "metadata": {
        "id": "gHX2ECfDpYUb",
        "colab": {
          "base_uri": "https://localhost:8080/"
        },
        "outputId": "ee2e34f2-ad8c-4835-d064-0259c6c93f11"
      },
      "source": [
        "g"
      ],
      "execution_count": null,
      "outputs": [
        {
          "output_type": "execute_result",
          "data": {
            "text/plain": [
              "array([[[  0,   1,   2,   3],\n",
              "        [  4,   5,   6,   7],\n",
              "        [999,   9,  10,  11]],\n",
              "\n",
              "       [[ 12,  13,  14,  15],\n",
              "        [ 16,  17,  18,  19],\n",
              "        [ 20,  21,  22,  23]]])"
            ]
          },
          "metadata": {},
          "execution_count": 36
        }
      ]
    },
    {
      "cell_type": "markdown",
      "metadata": {
        "id": "cAxT-zxVps9R"
      },
      "source": [
        "Todas a operçãoes aritméticas comuns podem ser feitas com o *ndarray*"
      ]
    },
    {
      "cell_type": "code",
      "metadata": {
        "id": "9FxqdcOWpz1R",
        "colab": {
          "base_uri": "https://localhost:8080/"
        },
        "outputId": "986b0cbc-1701-4df4-fa33-2f802324eccd"
      },
      "source": [
        "a = np.array([14, 23, 32, 41])\n",
        "b = np.array([5,  4,  3,  2])\n",
        "print(\"a + b  =\", a + b)\n",
        "print(\"a - b  =\", a - b)\n",
        "print(\"a * b  =\", a * b)\n",
        "print(\"a / b  =\", a / b)\n",
        "print(\"a // b  =\", a // b)\n",
        "print(\"a % b  =\", a % b)\n",
        "print(\"a ** b =\", a ** b)"
      ],
      "execution_count": null,
      "outputs": [
        {
          "output_type": "stream",
          "name": "stdout",
          "text": [
            "a + b  = [19 27 35 43]\n",
            "a - b  = [ 9 19 29 39]\n",
            "a * b  = [70 92 96 82]\n",
            "a / b  = [ 2.8         5.75       10.66666667 20.5       ]\n",
            "a // b  = [ 2  5 10 20]\n",
            "a % b  = [4 3 2 1]\n",
            "a ** b = [537824 279841  32768   1681]\n"
          ]
        }
      ]
    },
    {
      "cell_type": "markdown",
      "metadata": {
        "id": "KvavA4ZLp5Do"
      },
      "source": [
        "Repare que a multiplicação acima **NÃO** é um multiplicação de martizes\n",
        "\n",
        "Arrays devem ter o mesmo shape, caso contrário, NumPy vai aplicar a regra de *broadcasting* (Ver seção 2.1.3 do [livro texto](http://d2l.ai/chapter_preliminaries/ndarray.html)). Pesquise sobre a operação ed bradcasting do NumPy e explique com suas palavras, abaixo:"
      ]
    },
    {
      "cell_type": "markdown",
      "source": [
        "> **ToDo**: Explique o conceito de *broadcasting*.\n",
        "> ```\n",
        "  O broadcasting diz respeito à uma técnica para a realização de operações binárias entre arrays com shapes distintos. Neste caso, o NumPy expande os arrays para que tenham shapes iguais, copiando elementos para as colunas ou linhas. Por exemplo, suponha um array X com shape (1,3) e um array Y com shape (4,1). O Numpy, neste exemplo, fará com que todos os arrays tenham o shape (4,3), que seria a maior quantidade de linhas entre os shapes (4) e a maior quantidade de colunas (3). No array X, os elementos serão copiados para novas linhas e no array Y serão copiados para novas colunas. Desse modo, é possível efetuar as operações binárias, após utilizar o broadcasting.\n",
        "```"
      ],
      "metadata": {
        "id": "H8vABCLXkUZJ"
      }
    },
    {
      "cell_type": "markdown",
      "source": [
        "### Iteração e Concatenação de arrays de *NumPy* (5pt)"
      ],
      "metadata": {
        "id": "6bxKHkldVyvt"
      }
    },
    {
      "cell_type": "markdown",
      "metadata": {
        "id": "KrNWG2EBqokb"
      },
      "source": [
        "Repare que você pode iterar pelos `ndarrays`, e que ela é feita pelos *axis*."
      ]
    },
    {
      "cell_type": "code",
      "metadata": {
        "id": "NufhSS2Cqree",
        "colab": {
          "base_uri": "https://localhost:8080/"
        },
        "outputId": "736c7133-c406-415a-af5b-f9f8aa612af3"
      },
      "source": [
        "c = np.arange(24).reshape(2, 3, 4)  # Um array 3D (coposto de duas matrizes de 3x4)\n",
        "c"
      ],
      "execution_count": null,
      "outputs": [
        {
          "output_type": "execute_result",
          "data": {
            "text/plain": [
              "array([[[ 0,  1,  2,  3],\n",
              "        [ 4,  5,  6,  7],\n",
              "        [ 8,  9, 10, 11]],\n",
              "\n",
              "       [[12, 13, 14, 15],\n",
              "        [16, 17, 18, 19],\n",
              "        [20, 21, 22, 23]]])"
            ]
          },
          "metadata": {},
          "execution_count": 3
        }
      ]
    },
    {
      "cell_type": "code",
      "metadata": {
        "id": "Kuyq7oUjp4vg",
        "colab": {
          "base_uri": "https://localhost:8080/"
        },
        "outputId": "5cbe8b31-3729-4395-de47-147f80a886dc"
      },
      "source": [
        "for m in c:\n",
        "    print(\"Item:\")\n",
        "    print(m)"
      ],
      "execution_count": null,
      "outputs": [
        {
          "output_type": "stream",
          "name": "stdout",
          "text": [
            "Item:\n",
            "[[ 0  1  2  3]\n",
            " [ 4  5  6  7]\n",
            " [ 8  9 10 11]]\n",
            "Item:\n",
            "[[12 13 14 15]\n",
            " [16 17 18 19]\n",
            " [20 21 22 23]]\n"
          ]
        }
      ]
    },
    {
      "cell_type": "code",
      "metadata": {
        "id": "rS5NbTS2rArD",
        "colab": {
          "base_uri": "https://localhost:8080/"
        },
        "outputId": "aa5ce41e-225e-45de-ddee-86fb3fd2bcd4"
      },
      "source": [
        "for i in range(len(c)):  # Observe que len(c) == c.shape[0]\n",
        "    print(\"Item:\")\n",
        "    print(c[i])"
      ],
      "execution_count": null,
      "outputs": [
        {
          "output_type": "stream",
          "name": "stdout",
          "text": [
            "Item:\n",
            "[[ 0  1  2  3]\n",
            " [ 4  5  6  7]\n",
            " [ 8  9 10 11]]\n",
            "Item:\n",
            "[[12 13 14 15]\n",
            " [16 17 18 19]\n",
            " [20 21 22 23]]\n"
          ]
        }
      ]
    },
    {
      "cell_type": "code",
      "metadata": {
        "id": "hXMSTO3MrDP4",
        "colab": {
          "base_uri": "https://localhost:8080/"
        },
        "outputId": "a93e1a68-7e3c-4fa8-8a2c-26018ca60a90"
      },
      "source": [
        "# Para iterar por todos os elementos\n",
        "for i in c.flat:\n",
        "    print(\"Item:\", i)"
      ],
      "execution_count": null,
      "outputs": [
        {
          "output_type": "stream",
          "name": "stdout",
          "text": [
            "Item: 0\n",
            "Item: 1\n",
            "Item: 2\n",
            "Item: 3\n",
            "Item: 4\n",
            "Item: 5\n",
            "Item: 6\n",
            "Item: 7\n",
            "Item: 8\n",
            "Item: 9\n",
            "Item: 10\n",
            "Item: 11\n",
            "Item: 12\n",
            "Item: 13\n",
            "Item: 14\n",
            "Item: 15\n",
            "Item: 16\n",
            "Item: 17\n",
            "Item: 18\n",
            "Item: 19\n",
            "Item: 20\n",
            "Item: 21\n",
            "Item: 22\n",
            "Item: 23\n"
          ]
        }
      ]
    },
    {
      "cell_type": "markdown",
      "metadata": {
        "id": "1RznKDthrLfn"
      },
      "source": [
        "Também é possível concatenar `ndarrays`, e isso pode ser feito em um eixo específico."
      ]
    },
    {
      "cell_type": "code",
      "metadata": {
        "id": "WRQVwQxnrM-f",
        "colab": {
          "base_uri": "https://localhost:8080/"
        },
        "outputId": "719e0d34-5a79-4a2c-ae21-326493bf0b8b"
      },
      "source": [
        "# Pode-se concatenar arrays pelos axis\n",
        "q1 = np.full((3,4), 1.0)\n",
        "\n",
        "q2 = np.full((4,4), 2.0)\n",
        "\n",
        "q3 = np.full((3,4), 3.0)\n",
        "\n",
        "q = np.concatenate((q1, q2, q3), axis=0)\n",
        "q"
      ],
      "execution_count": null,
      "outputs": [
        {
          "output_type": "execute_result",
          "data": {
            "text/plain": [
              "array([[1., 1., 1., 1.],\n",
              "       [1., 1., 1., 1.],\n",
              "       [1., 1., 1., 1.],\n",
              "       [2., 2., 2., 2.],\n",
              "       [2., 2., 2., 2.],\n",
              "       [2., 2., 2., 2.],\n",
              "       [2., 2., 2., 2.],\n",
              "       [3., 3., 3., 3.],\n",
              "       [3., 3., 3., 3.],\n",
              "       [3., 3., 3., 3.]])"
            ]
          },
          "metadata": {},
          "execution_count": 12
        }
      ]
    },
    {
      "cell_type": "code",
      "source": [
        "# ToDo: imprima o shape resultante da concatenação dos arrays de shape a = (2, 3, 4) e b = (2, 3, 4) em cada eixo separadamente\n",
        "a = np.full((2,3,4), 2.0)\n",
        "b= np.full((2,3,4), 3.0)\n",
        "\n",
        "ab0 = np.concatenate((a,b), axis=0)\n",
        "ab1 = np.concatenate((a,b), axis=1)\n",
        "ab2 = np.concatenate((a,b), axis=2)\n",
        "\n",
        "print(f\"Shape da concatenação a e b no eixo 0 = {ab0.shape}\\n\")\n",
        "print(f\"Shape da concatenação a e b no eixo 1 = {ab1.shape}\\n\")\n",
        "print(f\"Shape da concatenação a e b no eixo 2 = {ab2.shape}\\n\")"
      ],
      "metadata": {
        "id": "oP16-SvolCPR",
        "colab": {
          "base_uri": "https://localhost:8080/"
        },
        "outputId": "71e2ecf5-6172-45cc-c38e-dfd4e65bec69"
      },
      "execution_count": null,
      "outputs": [
        {
          "output_type": "stream",
          "name": "stdout",
          "text": [
            "Shape da concatenação a e b no eixo 0 = (4, 3, 4)\n",
            "\n",
            "Shape da concatenação a e b no eixo 1 = (2, 6, 4)\n",
            "\n",
            "Shape da concatenação a e b no eixo 2 = (2, 3, 8)\n",
            "\n"
          ]
        }
      ]
    },
    {
      "cell_type": "markdown",
      "metadata": {
        "id": "s3XuK6yLrgBk"
      },
      "source": [
        "### Transposta (5pt)\n"
      ]
    },
    {
      "cell_type": "code",
      "metadata": {
        "id": "q7dSfS0zrhVi",
        "colab": {
          "base_uri": "https://localhost:8080/"
        },
        "outputId": "eef79d4b-92e5-4b9f-9939-53dd03bb830e"
      },
      "source": [
        "m1 = np.arange(10).reshape(2,5)\n",
        "m1"
      ],
      "execution_count": null,
      "outputs": [
        {
          "output_type": "execute_result",
          "data": {
            "text/plain": [
              "array([[0, 1, 2, 3, 4],\n",
              "       [5, 6, 7, 8, 9]])"
            ]
          },
          "metadata": {},
          "execution_count": 20
        }
      ]
    },
    {
      "cell_type": "code",
      "metadata": {
        "id": "B6R2PFoirpKd",
        "colab": {
          "base_uri": "https://localhost:8080/"
        },
        "outputId": "c6382e48-89a0-4cc2-ee6d-6e83535ef1f7"
      },
      "source": [
        "# ToDo : imprima a matriz transposta de m1\n",
        "m1t = m1.T\n",
        "for m in m1t:\n",
        "  print(m)"
      ],
      "execution_count": null,
      "outputs": [
        {
          "output_type": "stream",
          "name": "stdout",
          "text": [
            "[0 5]\n",
            "[1 6]\n",
            "[2 7]\n",
            "[3 8]\n",
            "[4 9]\n"
          ]
        }
      ]
    },
    {
      "cell_type": "markdown",
      "metadata": {
        "id": "pgGS5pqJr9lR"
      },
      "source": [
        "### Produto de matrizes (5pt)"
      ]
    },
    {
      "cell_type": "code",
      "metadata": {
        "id": "TGqupKabr-yf",
        "colab": {
          "base_uri": "https://localhost:8080/"
        },
        "outputId": "04ad1453-6c2d-4637-c068-ef137adade24"
      },
      "source": [
        "n1 = np.arange(10).reshape(2, 5)\n",
        "n1"
      ],
      "execution_count": null,
      "outputs": [
        {
          "output_type": "execute_result",
          "data": {
            "text/plain": [
              "array([[0, 1, 2, 3, 4],\n",
              "       [5, 6, 7, 8, 9]])"
            ]
          },
          "metadata": {},
          "execution_count": 26
        }
      ]
    },
    {
      "cell_type": "code",
      "metadata": {
        "id": "pp96FkvQsAlh",
        "colab": {
          "base_uri": "https://localhost:8080/"
        },
        "outputId": "c93c4a52-270b-45a3-d07c-e11ccf103b99"
      },
      "source": [
        "n2 = np.arange(15).reshape(5, 3)\n",
        "n2"
      ],
      "execution_count": null,
      "outputs": [
        {
          "output_type": "execute_result",
          "data": {
            "text/plain": [
              "array([[ 0,  1,  2],\n",
              "       [ 3,  4,  5],\n",
              "       [ 6,  7,  8],\n",
              "       [ 9, 10, 11],\n",
              "       [12, 13, 14]])"
            ]
          },
          "metadata": {},
          "execution_count": 27
        }
      ]
    },
    {
      "cell_type": "code",
      "metadata": {
        "id": "2d1Ds0AVsDa7",
        "colab": {
          "base_uri": "https://localhost:8080/"
        },
        "outputId": "6c6bcb13-5159-4741-b620-e59a67564c71"
      },
      "source": [
        "n1.dot(n2)"
      ],
      "execution_count": null,
      "outputs": [
        {
          "output_type": "execute_result",
          "data": {
            "text/plain": [
              "array([[ 90, 100, 110],\n",
              "       [240, 275, 310]])"
            ]
          },
          "metadata": {},
          "execution_count": 28
        }
      ]
    },
    {
      "cell_type": "code",
      "source": [
        "# ToDo: Crie um array de 1 a 25 com shape (5, 5) e faça a multiplicação por uma matriz de zeros de (5, 1).\n",
        "a1 = np.arange(1, 26).reshape(5,5)\n",
        "a2 = np.zeros((5,1))\n",
        "\n",
        "a3 = a1.dot(a2)\n",
        "a3"
      ],
      "metadata": {
        "id": "i-gOiMYUljXq",
        "colab": {
          "base_uri": "https://localhost:8080/"
        },
        "outputId": "ad857ff0-3512-40fd-d2ad-4fceb43580f1"
      },
      "execution_count": null,
      "outputs": [
        {
          "output_type": "execute_result",
          "data": {
            "text/plain": [
              "array([[0.],\n",
              "       [0.],\n",
              "       [0.],\n",
              "       [0.],\n",
              "       [0.]])"
            ]
          },
          "metadata": {},
          "execution_count": 32
        }
      ]
    },
    {
      "cell_type": "markdown",
      "metadata": {
        "id": "frQ6zLAsx1pt"
      },
      "source": [
        "### Matriz Inversa (5pt)"
      ]
    },
    {
      "cell_type": "code",
      "metadata": {
        "id": "gyUBiYy8x4Zb",
        "colab": {
          "base_uri": "https://localhost:8080/"
        },
        "outputId": "11140576-dc43-4c95-f769-9cd62e533ff7"
      },
      "source": [
        "import numpy.linalg as linalg\n",
        "\n",
        "m3 = np.array([[1,2,3],[5,7,11],[21,29,31]])\n",
        "\n",
        "m3"
      ],
      "execution_count": 16,
      "outputs": [
        {
          "output_type": "execute_result",
          "data": {
            "text/plain": [
              "array([[ 1,  2,  3],\n",
              "       [ 5,  7, 11],\n",
              "       [21, 29, 31]])"
            ]
          },
          "metadata": {},
          "execution_count": 16
        }
      ]
    },
    {
      "cell_type": "code",
      "metadata": {
        "id": "Fmofch4Nx6rG",
        "colab": {
          "base_uri": "https://localhost:8080/"
        },
        "outputId": "31722718-c022-4f3b-b68f-1b7f12d9acad"
      },
      "source": [
        "linalg.inv(m3)"
      ],
      "execution_count": null,
      "outputs": [
        {
          "output_type": "execute_result",
          "data": {
            "text/plain": [
              "array([[-2.31818182,  0.56818182,  0.02272727],\n",
              "       [ 1.72727273, -0.72727273,  0.09090909],\n",
              "       [-0.04545455,  0.29545455, -0.06818182]])"
            ]
          },
          "metadata": {},
          "execution_count": 34
        }
      ]
    },
    {
      "cell_type": "markdown",
      "source": [
        "> **ToDo**: O que a função `linalg.inv` faz?\n",
        "> ```\n",
        "  A função linalg.inv recebe como parâmetro uma matriz quadrada e retorna a sua matriz inversa.\n",
        "```"
      ],
      "metadata": {
        "id": "0ZG2aSg3l3nF"
      }
    },
    {
      "cell_type": "markdown",
      "metadata": {
        "id": "akbN2w1yyAs0"
      },
      "source": [
        "### Matriz identidade (5pt)"
      ]
    },
    {
      "cell_type": "code",
      "metadata": {
        "id": "XCdstJwQx_4J",
        "colab": {
          "base_uri": "https://localhost:8080/"
        },
        "outputId": "b144f50a-751b-4e9d-e084-e5e6be09c458"
      },
      "source": [
        "m3.dot(linalg.inv(m3))"
      ],
      "execution_count": null,
      "outputs": [
        {
          "output_type": "execute_result",
          "data": {
            "text/plain": [
              "array([[ 1.00000000e+00, -1.66533454e-16,  0.00000000e+00],\n",
              "       [ 6.31439345e-16,  1.00000000e+00, -1.38777878e-16],\n",
              "       [ 5.21110932e-15, -2.38697950e-15,  1.00000000e+00]])"
            ]
          },
          "metadata": {},
          "execution_count": 35
        }
      ]
    },
    {
      "cell_type": "code",
      "source": [
        "## ToDo: Crie uma matriz identidade de tamanho (5, 5)\n",
        "#Propriedade da matriz inversa\n",
        "while True:\n",
        "  a1 = np.random.randint(0, 20, (5,5))\n",
        "  if(np.linalg.det(a1) != 0):\n",
        "    break\n",
        "\n",
        "id = a1.dot(linalg.inv(a1))\n",
        "print(id)\n",
        "\n",
        "#Concatenação de arrays\n",
        "identidade = np.zeros((1,5))\n",
        "identidade[0][0] = 1\n",
        "\n",
        "for i in range(4):\n",
        "   temp = np.zeros((1, 5))\n",
        "   temp[0][i+1] = 1\n",
        "   identidade = np.concatenate((identidade, temp), axis=0)\n",
        "print(identidade)"
      ],
      "metadata": {
        "id": "8Sw8Vp9-m2Ue",
        "colab": {
          "base_uri": "https://localhost:8080/"
        },
        "outputId": "b7287917-a26d-416e-e183-b0f8b77c20ba"
      },
      "execution_count": 17,
      "outputs": [
        {
          "output_type": "stream",
          "name": "stdout",
          "text": [
            "[[ 1.00000000e+00 -4.44089210e-16 -1.66533454e-16  4.99600361e-16\n",
            "  -2.42861287e-17]\n",
            " [ 1.11022302e-16  1.00000000e+00 -1.38777878e-16 -5.55111512e-17\n",
            "   3.98986399e-16]\n",
            " [ 0.00000000e+00 -2.22044605e-16  1.00000000e+00  5.55111512e-16\n",
            "   5.34294831e-16]\n",
            " [-1.11022302e-16  2.22044605e-16  0.00000000e+00  1.00000000e+00\n",
            "   1.94289029e-16]\n",
            " [-1.11022302e-16 -2.22044605e-16 -5.55111512e-17  0.00000000e+00\n",
            "   1.00000000e+00]]\n",
            "[[1. 0. 0. 0. 0.]\n",
            " [0. 1. 0. 0. 0.]\n",
            " [0. 0. 1. 0. 0.]\n",
            " [0. 0. 0. 1. 0.]\n",
            " [0. 0. 0. 0. 1.]]\n"
          ]
        }
      ]
    },
    {
      "cell_type": "markdown",
      "source": [
        "### Exercícios (15pt)"
      ],
      "metadata": {
        "id": "C2uIubKSnCM7"
      }
    },
    {
      "cell_type": "markdown",
      "source": [
        "Para os próximos exercícios, use o numpy."
      ],
      "metadata": {
        "id": "-7VRI99qnqzB"
      }
    },
    {
      "cell_type": "markdown",
      "source": [
        "**Questão 1:** Escreva uma função recursiva que calcule o determinante de uma matriz $n \\times n$ usando o teorema de Laplace.\n"
      ],
      "metadata": {
        "id": "gXsn7anFnNFS"
      }
    },
    {
      "cell_type": "code",
      "source": [
        "def deleterowandcol(mat, row, col):\n",
        "  matWithoutRow = np.delete(mat, row, axis = 0)\n",
        "  matFinal = np.delete(matWithoutRow, col, axis=1)\n",
        "  return matFinal\n",
        "\n",
        "def laplace(mat):\n",
        "  if mat.shape[0] == 1:\n",
        "    return mat[0][0]\n",
        "\n",
        "  else:\n",
        "    det = 0\n",
        "    for i in range(mat.shape[0]):\n",
        "      det += mat[0][i] * ((-1) ** (1+(i+1))) * laplace(deleterowandcol(mat, 0, i))\n",
        "    return det\n",
        "\n",
        "a = np.array([[4,5,-3,0], [2,-1,3,1], [1,-3,2,1], [0,2,-2,5]])\n",
        "print(laplace(a))"
      ],
      "metadata": {
        "id": "0wPSQqRAm_Pt",
        "colab": {
          "base_uri": "https://localhost:8080/"
        },
        "outputId": "09471729-6316-4c10-e60a-e8ee9fa0edaf"
      },
      "execution_count": 3,
      "outputs": [
        {
          "output_type": "stream",
          "name": "stdout",
          "text": [
            "210\n"
          ]
        }
      ]
    },
    {
      "cell_type": "markdown",
      "source": [
        "**Questão 2:** Escreva um programa que calcule a solução de um sistema de equações lineares por meio da regra de Cramer. Seu programa deve iniciar lendo o numero de equações e variáveis, e, logo após, ler as matrizes de entrada do teclado coeficiente a coeficiente. Para o cálculo dos determinantes, você pode utilizar a função escrita no exercício 1, ou a função `det` do pacote `numPy`.\n"
      ],
      "metadata": {
        "id": "bVIFbrXQnSF0"
      }
    },
    {
      "cell_type": "code",
      "source": [
        "def cramer():\n",
        "\n",
        "  neq = int(input(\"Digite o numero de equacoes e variaveis: \"))\n",
        "  mat = np.zeros((neq, neq+1)) #Matriz de entrada englobando os coef das incógnitas e dos termos independentes\n",
        "\n",
        "  for i in range(neq):\n",
        "    for j in range(neq+1):\n",
        "      mat[i][j] = float(input(f\"Informe o coeficiente da linha {i+1} e da coluna {j+1}: \"))\n",
        "\n",
        "  detmat = laplace(mat)\n",
        "\n",
        "  terind = mat[:,neq].copy()\n",
        "\n",
        "  mat = np.delete(mat, neq, axis=1)\n",
        "\n",
        "  sol = np.zeros((neq))\n",
        "\n",
        "  for i in range(neq):\n",
        "    oldcol = mat[:, i].copy() #Copiando coluna para registro\n",
        "    mat[:, i] = terind\n",
        "    sol[i] = laplace(mat) / detmat\n",
        "    mat[:, i] = oldcol\n",
        "\n",
        "  print(f\"Vetor solucao: {sol}\\n\")\n",
        "\n",
        "cramer()"
      ],
      "metadata": {
        "id": "Ht3eOR6rnUhK",
        "colab": {
          "base_uri": "https://localhost:8080/"
        },
        "outputId": "b69e6dc5-a61f-46f9-81db-526d4cb74475"
      },
      "execution_count": 34,
      "outputs": [
        {
          "output_type": "stream",
          "name": "stdout",
          "text": [
            "Digite o numero de equacoes e variaveis: 2\n",
            "Informe o coeficiente da linha 1 e da coluna 1: 1\n",
            "Informe o coeficiente da linha 1 e da coluna 2: 2\n",
            "Informe o coeficiente da linha 1 e da coluna 3: 3\n",
            "Informe o coeficiente da linha 2 e da coluna 1: 1\n",
            "Informe o coeficiente da linha 2 e da coluna 2: 4\n",
            "Informe o coeficiente da linha 2 e da coluna 3: 5\n",
            "Vetor solucao: [1. 1.]\n",
            "\n"
          ]
        }
      ]
    },
    {
      "cell_type": "markdown",
      "source": [
        "**Questão 3:** Implemente uma função que resolva sistemas de equações lineares através do método de eliminação de Gauss. Rode a função para algum exemplo, e compare com a solução obtida com o código da questão 2.\n",
        "Meça o tempo de execução para verificar qual algoritmo executa mais rápido."
      ],
      "metadata": {
        "id": "A_4NUQppnXJF"
      }
    },
    {
      "cell_type": "code",
      "source": [
        "import time\n",
        "\n",
        "def gauss(mat):\n",
        "  mat = np.array(mat, dtype=np.float64)\n",
        "  #Redução por Gauss\n",
        "  num_pivo = 0\n",
        "  for i in range(mat.shape[0]-1): #Colunas a serem zeradas\n",
        "    for j in range(mat.shape[0]): #Linhas\n",
        "      if(j > num_pivo):\n",
        "        fator = float(mat[j][i] / mat[i][i])\n",
        "        for k in range(mat.shape[1]):\n",
        "          mat[j][k] = float(mat[j][k] - (fator * mat[i][k]))\n",
        "    num_pivo += 1\n",
        "\n",
        "  #Substituição regressiva\n",
        "  sol = np.zeros(mat.shape[0])\n",
        "  for i in range(mat.shape[0] - 1, -1 , -1):\n",
        "    soma = 0\n",
        "    #Soluções conhecidas\n",
        "    for j in range(i+1, mat.shape[0]):\n",
        "      soma += mat[i][j] * sol[j]\n",
        "\n",
        "    sol[i] = (mat[i][mat.shape[1] - 1] - soma) / mat[i][i]\n",
        "\n",
        "  return sol\n",
        "\n",
        "\n",
        "#Função anterior adaptada para receber array via parâmetro ao invés do teclado, a fim de poder comparar o tempo de execução das duas\n",
        "def cramer(mat):\n",
        "  neq = mat.shape[0]\n",
        "  detmat = laplace(mat)\n",
        "\n",
        "  terind = mat[:,neq].copy()\n",
        "  mat = np.delete(mat, neq, axis=1)\n",
        "\n",
        "  sol = np.zeros((neq))\n",
        "  for i in range(neq):\n",
        "    oldcol = mat[:, i].copy() #Copiando coluna para registro\n",
        "    mat[:, i] = terind\n",
        "    sol[i] = laplace(mat) / detmat\n",
        "    mat[:, i] = oldcol\n",
        "\n",
        "  return sol\n",
        "\n",
        "#Medição do tempo de execução\n",
        "start_cramer = time.time()\n",
        "print(cramer(np.array([[1,1,1,6], [4,2,-1,5], [1,3,2,13]])))\n",
        "end_cramer = time.time()\n",
        "\n",
        "start_gauss = time.time()\n",
        "print(gauss(np.array([[1,1,1,6], [4,2,-1,5], [1,3,2,13]])))\n",
        "end_gauss = time.time()\n",
        "\n",
        "cramer_time = end_cramer -  start_cramer\n",
        "gauss_time = end_gauss -  start_gauss\n",
        "\n",
        "print(f\"Tempo do Cramer = {cramer_time}s\\nTempo do Gauss = {gauss_time}s\\n\")\n"
      ],
      "metadata": {
        "id": "4FUPyqrgnYbo",
        "colab": {
          "base_uri": "https://localhost:8080/"
        },
        "outputId": "2e2dda4d-16e1-4c10-fc8a-c822c03373e4"
      },
      "execution_count": 138,
      "outputs": [
        {
          "output_type": "stream",
          "name": "stdout",
          "text": [
            "[1. 2. 3.]\n",
            "[1. 2. 3.]\n",
            "Tempo do Cramer = 0.0009992122650146484s\n",
            "Tempo do Gauss = 0.00041031837463378906s\n",
            "\n"
          ]
        }
      ]
    },
    {
      "cell_type": "markdown",
      "source": [
        "Análise:\n",
        "Em todos os testes executados, o tempo do Gauss foi menor em relação ao tempo do Cramer, estando na mesma casa decimal. Portanto, infere-se que a função do Gauss executa mais rápido que a função do Cramer para uma mesma entrada."
      ],
      "metadata": {
        "id": "3N7GvWOI5Ell"
      }
    }
  ]
}